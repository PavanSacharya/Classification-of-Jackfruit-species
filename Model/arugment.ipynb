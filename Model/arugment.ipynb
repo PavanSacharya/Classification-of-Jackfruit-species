{
 "cells": [
  {
   "cell_type": "code",
   "execution_count": 29,
   "metadata": {},
   "outputs": [],
   "source": [
    "import cv2\n",
    "import os\n",
    "import numpy as np\n",
    "import random\n",
    "\n",
    "\n"
   ]
  },
  {
   "cell_type": "code",
   "execution_count": 30,
   "metadata": {},
   "outputs": [],
   "source": [
    "# Function to randomly transform images\n",
    "def transform_image(image):\n",
    "    # Randomly choose transformations\n",
    "    flip = random.choice([False, True])\n",
    "    angle = random.randint(-20, 20)\n",
    "    scale = random.uniform(0.8, 1.2)\n",
    "    # Perform transformations\n",
    "    if flip:\n",
    "        image = cv2.flip(image, 1)  # horizontal flip\n",
    "    rows, cols, _ = image.shape\n",
    "    rotation_matrix = cv2.getRotationMatrix2D((cols / 2, rows / 2), angle, scale)\n",
    "    image = cv2.warpAffine(image, rotation_matrix, (cols, rows))\n",
    "\n",
    "    return image"
   ]
  },
  {
   "cell_type": "code",
   "execution_count": null,
   "metadata": {},
   "outputs": [],
   "source": []
  },
  {
   "cell_type": "code",
   "execution_count": 31,
   "metadata": {},
   "outputs": [],
   "source": [
    "# Path to the folder containing original images\n",
    "input_folder = r\"D:\\jackintern\\Datasets\\VietnamEarly\""
   ]
  },
  {
   "cell_type": "code",
   "execution_count": 32,
   "metadata": {},
   "outputs": [],
   "source": [
    "# Path to the folder where augmented images will be saved\n",
    "output_folder = r\"D:\\jackintern\\Datasets\\VietnamEarly\""
   ]
  },
  {
   "cell_type": "code",
   "execution_count": 33,
   "metadata": {},
   "outputs": [],
   "source": [
    "# Ensure output folder exists, create if not\n",
    "if not os.path.exists(output_folder):\n",
    "    os.makedirs(output_folder)"
   ]
  },
  {
   "cell_type": "code",
   "execution_count": 34,
   "metadata": {},
   "outputs": [],
   "source": [
    "# Number of augmented images to generate per original image\n",
    "num_augmented_images = 10"
   ]
  },
  {
   "cell_type": "code",
   "execution_count": 35,
   "metadata": {},
   "outputs": [],
   "source": [
    "# Loop through each image in the input folder\n",
    "for filename in os.listdir(input_folder):\n",
    "    if filename.endswith(\".jpg\") or filename.endswith(\".png\"):  # Adjust file formats as needed\n",
    "        # Read the image\n",
    "        image = cv2.imread(os.path.join(input_folder, filename))\n",
    "        # Generate augmented images\n",
    "        for i in range(num_augmented_images):\n",
    "            # Transform the image\n",
    "            transformed_image = transform_image(image)\n",
    "            # Save the transformed image\n",
    "            output_filename = os.path.splitext(filename)[0] + f\"_aug_{i}.jpg\"  # Change extension as needed\n",
    "            cv2.imwrite(os.path.join(output_folder, output_filename), transformed_image)\n"
   ]
  }
 ],
 "metadata": {
  "kernelspec": {
   "display_name": "Python 3",
   "language": "python",
   "name": "python3"
  },
  "language_info": {
   "codemirror_mode": {
    "name": "ipython",
    "version": 3
   },
   "file_extension": ".py",
   "mimetype": "text/x-python",
   "name": "python",
   "nbconvert_exporter": "python",
   "pygments_lexer": "ipython3",
   "version": "3.12.1"
  }
 },
 "nbformat": 4,
 "nbformat_minor": 2
}
